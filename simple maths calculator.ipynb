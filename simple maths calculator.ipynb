{
 "cells": [
  {
   "cell_type": "code",
   "execution_count": null,
   "metadata": {},
   "outputs": [],
   "source": [
    "a = int(input(\"Enter Your First Value = \"))\n",
    "b = input(\"Enter Function (like: + , - , * , /)\")\n",
    "c = int(input(\"Enter Your Second Value = \"))\n",
    "if b==\"+\":\n",
    "    print(a, \"+\" ,c, \"=\" ,a+c)\n",
    "elif b==\"-\":\n",
    "    print(a, \"-\" ,c, \"=\" ,a-c)\n",
    "elif b==\"*\":\n",
    "    print(a, \"*\" ,c, \"=\" ,a*c)\n",
    "else:\n",
    "    print(a, \"/\" ,c, \"=\" ,a/c)"
   ]
  }
 ],
 "metadata": {
  "kernelspec": {
   "display_name": "Python 3",
   "language": "python",
   "name": "python3"
  },
  "language_info": {
   "codemirror_mode": {
    "name": "ipython",
    "version": 3
   },
   "file_extension": ".py",
   "mimetype": "text/x-python",
   "name": "python",
   "nbconvert_exporter": "python",
   "pygments_lexer": "ipython3",
   "version": "3.7.6"
  }
 },
 "nbformat": 4,
 "nbformat_minor": 4
}
